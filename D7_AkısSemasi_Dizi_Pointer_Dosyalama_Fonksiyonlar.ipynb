{
  "nbformat": 4,
  "nbformat_minor": 0,
  "metadata": {
    "colab": {
      "provenance": []
    },
    "kernelspec": {
      "name": "python3",
      "display_name": "Python 3"
    },
    "language_info": {
      "name": "python"
    }
  },
  "cells": [
    {
      "cell_type": "code",
      "source": [
        "print(\"Merhaba, İGÜ - İSTKA / Ders 7\") # print ekrana çıktı veren bir koddur."
      ],
      "metadata": {
        "colab": {
          "base_uri": "https://localhost:8080/"
        },
        "id": "jx42CLVpfBjl",
        "outputId": "95e11025-3f69-4e02-c87d-3d32e75bd9bc"
      },
      "execution_count": 35,
      "outputs": [
        {
          "output_type": "stream",
          "name": "stdout",
          "text": [
            "Merhaba, İGÜ - İSTKA / Ders 7\n"
          ]
        }
      ]
    },
    {
      "cell_type": "code",
      "source": [
        "import sys\n",
        "print(sys.version)"
      ],
      "metadata": {
        "colab": {
          "base_uri": "https://localhost:8080/"
        },
        "id": "peozO6e5exFO",
        "outputId": "c1265826-e306-484f-c9a5-3070b1b397bb"
      },
      "execution_count": 36,
      "outputs": [
        {
          "output_type": "stream",
          "name": "stdout",
          "text": [
            "3.10.12 (main, Jul 29 2024, 16:56:48) [GCC 11.4.0]\n"
          ]
        }
      ]
    },
    {
      "cell_type": "code",
      "execution_count": 37,
      "metadata": {
        "colab": {
          "base_uri": "https://localhost:8080/"
        },
        "id": "Z41dJbD_edtd",
        "outputId": "a0b27cae-db65-4079-d303-21a7d6ce7172"
      },
      "outputs": [
        {
          "output_type": "stream",
          "name": "stdout",
          "text": [
            "Drive already mounted at /content/drive; to attempt to forcibly remount, call drive.mount(\"/content/drive\", force_remount=True).\n"
          ]
        }
      ],
      "source": [
        "from google.colab import drive\n",
        "drive.mount('/content/drive')"
      ]
    },
    {
      "cell_type": "code",
      "source": [
        "import os\n",
        "os.chdir('/content/drive/My Drive/VERIYAPILARI_ISTKA')\n",
        "!pwd"
      ],
      "metadata": {
        "colab": {
          "base_uri": "https://localhost:8080/"
        },
        "id": "cNdMcHw9ek7d",
        "outputId": "4788a8f0-4352-4038-b3eb-1e4bbb20f5e6"
      },
      "execution_count": 38,
      "outputs": [
        {
          "output_type": "stream",
          "name": "stdout",
          "text": [
            "/content/drive/My Drive/VERIYAPILARI_ISTKA\n"
          ]
        }
      ]
    },
    {
      "cell_type": "markdown",
      "source": [
        "PYTHON - POINTER, DİZİ / LİSTE, FONKSİYONLAR\n",
        "\n",
        "PYTHON Pointer Kavramı - Pointerler Python Programlama dilinde yoktur. Konu bitti :))\n",
        "\n",
        "Pointer C dili öğrenminde çok önemli bir kavramdır. Pointerler C dilinin güçlü öğeleridir. Bir pointer ana bellekte bir adres belirtir. Bazı dillerde ancak assembler dili yardımıyla çözülebilecek pekçok sorun C dilinde pointerler ile kolayca çözülebilir. Ayrıca adres kullanımı çok karmasik veri yapılarınin rahatlikla kullanilmasını sağlar.\n",
        "\n",
        "Pointer kavramına yöneltilen eleştirilerden en önemlisi, C diline yeni başlayanlar için çok karmaşık görünmesi ve yazılan programın zor anlaşılır olmasıdır."
      ],
      "metadata": {
        "id": "8mx8vopVkfdF"
      }
    },
    {
      "cell_type": "code",
      "source": [
        "# liste tanimlama\n",
        "dizi = [2,3,5,6,8,11,14]\n",
        "\n",
        "# Cift sayilari tutmak icin kullanilan liste\n",
        "numara_listesi = []\n",
        "\n",
        "# for ve if ile listedeki cift sayilari bulma\n",
        "for i in dizi:\n",
        "  if i % 2 == 0:\n",
        "    numara_listesi.append(i)\n",
        "\n",
        "print(f\"Listede bulunan çift sayılar: {numara_listesi}\")\n",
        "print(f\"{len(numara_listesi)} adet çift sayı bulunmaktadır.\")"
      ],
      "metadata": {
        "colab": {
          "base_uri": "https://localhost:8080/"
        },
        "id": "IT7BlBbOkkMg",
        "outputId": "cf8a640f-8b26-4ba5-f63a-a216e6ee159e"
      },
      "execution_count": null,
      "outputs": [
        {
          "output_type": "stream",
          "name": "stdout",
          "text": [
            "Listede bulunan çift sayılar: [2, 6, 8, 14]\n",
            "4 adet çift sayı bulunmaktadır.\n"
          ]
        }
      ]
    },
    {
      "cell_type": "code",
      "source": [
        "dizi = [\"elma\",\"muz\",\"çilek\",\"su\",\"çikolata\"] # malzeme listesi\n",
        "\n",
        "aranacak_urun = \"muz\"# aranacak eleman\n",
        "\n",
        "if aranacak_urun in dizi:\n",
        "  print(f\"{aranacak_urun} listede mevcut.\")\n",
        "\n",
        "else:\n",
        "  print(f\"{aranacak_urun} listede mevcut değil\")"
      ],
      "metadata": {
        "colab": {
          "base_uri": "https://localhost:8080/"
        },
        "id": "VwPHKGy7nMiu",
        "outputId": "c768dcb6-9a20-4e8a-f284-3c1b49b2731f"
      },
      "execution_count": null,
      "outputs": [
        {
          "output_type": "stream",
          "name": "stdout",
          "text": [
            "muz listede mevcut.\n"
          ]
        }
      ]
    },
    {
      "cell_type": "code",
      "source": [
        "dizi = [\"elma\",\"muz\",\"çilek\",\"su\",\"çikolata\"] # malzeme listesi\n",
        "\n",
        "aranacak_urun = input(\"Aramak istediğiniz ürünü girin: \") # aranacak elemanin kullanicidan input olarak alinmasi\n",
        "\n",
        "if aranacak_urun in dizi:\n",
        "  print(f\"{aranacak_urun} listede mevcut.\")\n",
        "\n",
        "else:\n",
        "  print(f\"{aranacak_urun} listede mevcut değil\")"
      ],
      "metadata": {
        "colab": {
          "base_uri": "https://localhost:8080/"
        },
        "id": "9fWwQ_toe2QV",
        "outputId": "9d77f88f-f657-471d-c79c-e2f3ac475702"
      },
      "execution_count": null,
      "outputs": [
        {
          "output_type": "stream",
          "name": "stdout",
          "text": [
            "Aramak istediğiniz ürünü girin: öuz\n",
            "öuz listede mevcut değil\n"
          ]
        }
      ]
    },
    {
      "cell_type": "markdown",
      "source": [
        "Python Veri Yapılarında Fonksiyonlar ve Kullanım Kuralları\n",
        "\n",
        "Fonksiyonlar, belirli bir kod üzerinde ilgili görevi gerçekleştiren kod bloklarıdır.\n",
        "\n",
        "Bir fonksiyon tanımlandığında, ona bir özel isim verilir ve gerektiğinde bu isimle çağrılarak çalıştırılır.\n",
        "\n",
        "Fonksiyonlar kodun bütünlüğünde aynı kodu tekrar tekrar yazmak yerine; kodu daha modüler, yeniden kullanılabilir ve anlaşılır hale getirir.\n",
        "\n",
        "Fonksiyonların Kullanım Nedenleri-->\n",
        "\n",
        "1. Kodun Tekrarını Azaltır\n",
        "2. Modülerlik Sağlar (zaman kazandır)\n",
        "3. Anlaşılabilirlik ve Bakım Kolaylığı\n",
        "4. Yeniden Kullanılabilirlik"
      ],
      "metadata": {
        "id": "iDuy8Dwtn4xG"
      }
    },
    {
      "cell_type": "code",
      "source": [
        "# Matematiksel toplama islemi\n",
        "\n",
        "def toplama(a,b):\n",
        "  return a+b\n",
        "\n",
        "# Fonksiyonu cagirarak kullanma\n",
        "\n",
        "sonuc = toplama(5,3)\n",
        "print(f\"Toplama sonucu: {sonuc}\")\n",
        "print(\"Toplama sonucu:\",sonuc)"
      ],
      "metadata": {
        "colab": {
          "base_uri": "https://localhost:8080/"
        },
        "id": "rBAOouZdne3D",
        "outputId": "38be2aa3-3836-4c19-e919-43a3ed59f800"
      },
      "execution_count": null,
      "outputs": [
        {
          "output_type": "stream",
          "name": "stdout",
          "text": [
            "Toplama sonucu: 8\n",
            "Toplama sonucu: 8\n"
          ]
        }
      ]
    },
    {
      "cell_type": "code",
      "source": [
        "# Liste elemanlarini toplama fonksiyonu\n",
        "\n",
        "liste0 =  [2,4,5,8,9,32,34]\n",
        "\n",
        "def liste_toplama(liste):\n",
        "  toplam = 0\n",
        "  for i in liste:\n",
        "    toplam+=i\n",
        "  return toplam\n",
        "\n",
        "sonuc = liste_toplama(liste0)\n",
        "print(f\"Toplama sonucu: {sonuc}\")"
      ],
      "metadata": {
        "colab": {
          "base_uri": "https://localhost:8080/"
        },
        "id": "7IRRIqQnn-ME",
        "outputId": "ae5eea78-610b-4dc3-8efb-c1efcff656f9"
      },
      "execution_count": null,
      "outputs": [
        {
          "output_type": "stream",
          "name": "stdout",
          "text": [
            "Toplama sonucu: 94\n"
          ]
        }
      ]
    },
    {
      "cell_type": "code",
      "source": [
        "# Fibonacci dizisi olusturma\n",
        "\n",
        "def fibonacci(n):\n",
        "  if n <= 0:\n",
        "    return \"Geçersiz giriş.\"\n",
        "  elif n == 1:\n",
        "    return 0\n",
        "  elif n == 2:\n",
        "    return 1\n",
        "  else:\n",
        "    return fibonacci(n-1) + fibonacci(n-2)\n",
        "\n",
        "# Fonksiyonu cagirarak kullanma\n",
        "n = int(input(\"Bir sayı girin: \"))\n",
        "sonuc = fibonacci(n)\n",
        "print(f\"Fibonacci dizisinin {n}. elemanı: {sonuc}\")"
      ],
      "metadata": {
        "colab": {
          "base_uri": "https://localhost:8080/"
        },
        "id": "RUvnjnfDqXB_",
        "outputId": "631ee3e8-64a7-4176-f77c-a0622ac4a518"
      },
      "execution_count": null,
      "outputs": [
        {
          "output_type": "stream",
          "name": "stdout",
          "text": [
            "Bir sayı girin: 7\n",
            "Fibonacci dizisinin 7. elemanı: 8\n"
          ]
        }
      ]
    },
    {
      "cell_type": "code",
      "source": [
        "8 // 3"
      ],
      "metadata": {
        "colab": {
          "base_uri": "https://localhost:8080/"
        },
        "id": "k55DXGfutt3J",
        "outputId": "d7f076b5-3983-4e5d-e12d-ca5c6ba4b66d"
      },
      "execution_count": null,
      "outputs": [
        {
          "output_type": "execute_result",
          "data": {
            "text/plain": [
              "2"
            ]
          },
          "metadata": {},
          "execution_count": 20
        }
      ]
    },
    {
      "cell_type": "code",
      "source": [
        "def ebob(a,b):\n",
        "  while b:\n",
        "    a,b = b, a%b\n",
        "  return a\n",
        "\n",
        "def ekok(a,b):\n",
        "  return a*b // ebob(a,b)\n",
        "\n",
        "# Kullancidan iki sayi al\n",
        "\n",
        "birinci_sayi = int(input(\"Birinci sayıyı giriniz: \"))\n",
        "ikinci_sayi = int(input(\"İkinci sayıyı giriniz: \"))\n",
        "\n",
        "# ebob ve ekok hesapla\n",
        "\n",
        "ebob_sonuc = ebob(birinci_sayi,ikinci_sayi)\n",
        "ekok_sonuc = ekok(birinci_sayi,ikinci_sayi)\n",
        "\n",
        "print(\"Sayıların ebobu:\",ebob_sonuc)\n",
        "print(f\"Sayıların ekoku: {ekok_sonuc}\")"
      ],
      "metadata": {
        "colab": {
          "base_uri": "https://localhost:8080/"
        },
        "id": "vobKvhBUulJC",
        "outputId": "5eeefe37-4d81-46b3-9b6e-8f5cabf54202"
      },
      "execution_count": null,
      "outputs": [
        {
          "output_type": "stream",
          "name": "stdout",
          "text": [
            "Birinci sayıyı giriniz: 24\n",
            "İkinci sayıyı giriniz: 18\n",
            "Sayıların ebobu: 6\n",
            "Sayıların ekoku: 72\n"
          ]
        }
      ]
    },
    {
      "cell_type": "code",
      "source": [
        "buzdolabi = {\n",
        "    \"elma\": 5,# 5 kilo elma\n",
        "    \"muz\": 3,#3 kilo elma\n",
        "    \"kiraz\": 2,# 2 kilo kiraz\n",
        "    \"hurma\": 4# 4 kilo hurma\n",
        "}\n",
        "\n",
        "def buzdolabi_durumu_yazdir(): # Mevcut buzdolabı durumunu yazdıran fonksiyon\n",
        "  for meyve,miktar in buzdolabi.items():\n",
        "    print(f\"{meyve}: {miktar} kilo\")\n",
        "    print(\"\\n\")\n",
        "\n",
        "def meyve_tuket(meyve,miktar): # Meyveden belirtilen miktarı düşen fonksiyon\n",
        "  if meyve in buzdolabi:\n",
        "    if buzdolabi[meyve] >= miktar:\n",
        "      buzdolabi[meyve]-=miktar\n",
        "      print(f\"{miktar} kilo {meyve} tüketildi.\")\n",
        "      if buzdolabi[meyve] == 0:\n",
        "        print(f\"{meyve} kalmadı, {meyve} almalısın.\")\n",
        "        yeni_miktar = float(input(f\"Kaç kilo {meyve} almak istersiniz?: \"))\n",
        "        buzdolabi[meyve] = yeni_miktar\n",
        "        print(f\"Buzdolabina {yeni_miktar} kilo {meyve} eklendi.\")\n",
        "    else:\n",
        "      print(f\"Buzdolabında yeterli {meyve} yok. Mevcut miktar:{buzdolabi[meyve]} kilo\")\n",
        "  else:\n",
        "    print(f\"Buzdolabında {meyve} bulunmuyor.\")\n",
        "\n",
        "\n",
        "print(\"Buzdolabı Uygulaması\",\"\\n\",\"---------------------\") # Uygulama başlangıc noktası\n",
        "(buzdolabi_durumu_yazdir())\n",
        "\n",
        "while True: # Ana döngü tanımlaması\n",
        "# Kullanıcıdan meyve ve miktar bilgisi alma\n",
        "  meyve = input(\"Hangi meyveyi almak istersiniz?: Çıkmak için 'exit' yazın.\").lower()\n",
        "\n",
        "  if meyve == \"exit\":\n",
        "    break\n",
        "\n",
        "  miktar = float(input(f\"Kaç kilo  {meyve} tüketmek istersiniz?:\"))\n",
        "\n",
        "  meyve_tuket(meyve,miktar) # meyve tüketme işlemi\n",
        "  buzdolabi_durumu_yazdir() # güncel durumu yazdırma"
      ],
      "metadata": {
        "colab": {
          "base_uri": "https://localhost:8080/"
        },
        "id": "M8D3CbGWNTxO",
        "outputId": "630038a6-6490-48bf-e2d3-ba1c04faa86a"
      },
      "execution_count": 46,
      "outputs": [
        {
          "name": "stdout",
          "output_type": "stream",
          "text": [
            "Buzdolabı Uygulaması \n",
            " ---------------------\n",
            "elma: 5 kilo\n",
            "\n",
            "\n",
            "muz: 3 kilo\n",
            "\n",
            "\n",
            "kiraz: 2 kilo\n",
            "\n",
            "\n",
            "hurma: 4 kilo\n",
            "\n",
            "\n",
            "Hangi meyveyi almak istersiniz?: Çıkmak için 'exit' yazın.elma\n",
            "Kaç kilo  elma tüketmek istersiniz?:3\n",
            "3.0 kilo elma tüketildi.\n",
            "elma: 2.0 kilo\n",
            "\n",
            "\n",
            "muz: 3 kilo\n",
            "\n",
            "\n",
            "kiraz: 2 kilo\n",
            "\n",
            "\n",
            "hurma: 4 kilo\n",
            "\n",
            "\n",
            "Hangi meyveyi almak istersiniz?: Çıkmak için 'exit' yazın.exit\n"
          ]
        }
      ]
    },
    {
      "cell_type": "code",
      "source": [
        "diyet_listesi = {\n",
        "    \"elma\": {\"miktar\": 5,\"kalori\": 52},\n",
        "    \"muz\": {\"miktar\": 3,\"kalori\": 89},\n",
        "    \"kiraz\": {\"miktar\":2,\"kalori\": 50},\n",
        "    \"hurma\": {\"miktar\":4,\"kalori\":282}\n",
        "}\n",
        "\n",
        "def diyet_listesi_yazdir():\n",
        "  for besin,bilgi in diyet_listesi.items():\n",
        "    print(f\"{besin}: {bilgi['miktar']} kio, Toplam kalori değeri: {bilgi['miktar'] * bilgi['kalori']} kalori\")\n",
        "  print(\"\\n\")\n",
        "\n",
        "def besin_tuket(besin,miktar):\n",
        "  if besin in diyet_listesi:\n",
        "    if diyet_listesi[besin][\"miktar\"] >= miktar:\n",
        "      diyet_listesi[besin][\"miktar\"]-=miktar\n",
        "      tuketilen_kalori = diyet_listesi[besin][\"kalori\"] * miktar\n",
        "      print(f\"{miktar} kilo {besin} tüketildi. Alınan kalori: {tuketilen_kalori}\")\n",
        "      if diyet_listesi[besin][\"miktar\"] == 0:\n",
        "        print(f\"{besin} kalmadı, {besin} almalısı!\")\n",
        "        yeni_miktar = float(input(f\"Kaç kio {besin} almak istersin?:\"))\n",
        "        diyet_listesi[besin][\"miktar\"] = yeni_miktar\n",
        "        print(f\"{besin} diyet listesine {yeni_miktar} kilo olarak eklendi.\")\n",
        "    else:\n",
        "      print(f\"Diyet listesinde yeterli {besin} yok. Mevcut miktar: {diyet_listesi[besin]['miktar']} kilo\")\n",
        "  else:\n",
        "    print(f\"Diyet listesinde {besin} bulumuyor\")\n",
        "\n",
        "print(\"Diyet Uygulaması\",\"\\n\",\"-----\")\n",
        "diyet_listesi_yazdir()\n",
        "\n",
        "while True:\n",
        "\n",
        "  besin = input(\"Hangi besini tüketmek istersiniz?: (Çıkmak için 'exit' yazın.)\",).lower()\n",
        "  if besin == \"exit\":\n",
        "    break\n",
        "\n",
        "  miktar = float(input(f\"Kaç kilo {besin} tüketmek istersiniz?: \"))\n",
        "\n",
        "  besin_tuket(besin,miktar)\n",
        "\n",
        "  diyet_listesi_yazdir()\n",
        "\n"
      ],
      "metadata": {
        "colab": {
          "base_uri": "https://localhost:8080/"
        },
        "id": "p5ccTf5uQY61",
        "outputId": "c9739d8c-36e7-4df6-e1ff-6cb876275072"
      },
      "execution_count": 56,
      "outputs": [
        {
          "name": "stdout",
          "output_type": "stream",
          "text": [
            "Diyet Uygulaması \n",
            " -----\n",
            "elma: 5 kio, Toplam kalori değeri: 260 kalori\n",
            "muz: 3 kio, Toplam kalori değeri: 267 kalori\n",
            "kiraz: 2 kio, Toplam kalori değeri: 100 kalori\n",
            "hurma: 4 kio, Toplam kalori değeri: 1128 kalori\n",
            "\n",
            "\n",
            "Hangi besini tüketmek istersiniz?: (Çıkmak için 'exit' yazın.)exit\n"
          ]
        }
      ]
    },
    {
      "cell_type": "code",
      "source": [],
      "metadata": {
        "id": "6qXA6grZWlZE"
      },
      "execution_count": null,
      "outputs": []
    }
  ]
}