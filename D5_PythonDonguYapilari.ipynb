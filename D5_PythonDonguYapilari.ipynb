{
  "nbformat": 4,
  "nbformat_minor": 0,
  "metadata": {
    "colab": {
      "provenance": []
    },
    "kernelspec": {
      "name": "python3",
      "display_name": "Python 3"
    },
    "language_info": {
      "name": "python"
    }
  },
  "cells": [
    {
      "cell_type": "code",
      "execution_count": 3,
      "metadata": {
        "colab": {
          "base_uri": "https://localhost:8080/"
        },
        "id": "ogNKLXfQ-zIA",
        "outputId": "68b1d88e-bb78-4076-d518-4c6a7e4e129c"
      },
      "outputs": [
        {
          "output_type": "stream",
          "name": "stdout",
          "text": [
            "Merhaba, İGÜ - İSTKA / Ders 5\n"
          ]
        }
      ],
      "source": [
        "print(\"Merhaba, İGÜ - İSTKA / Ders 5\")"
      ]
    },
    {
      "cell_type": "code",
      "source": [
        "import sys\n",
        "print(sys.version)"
      ],
      "metadata": {
        "colab": {
          "base_uri": "https://localhost:8080/"
        },
        "id": "t9slWxcf_OvI",
        "outputId": "6aea09aa-b99a-4f6c-bef1-a7f33c38da3b"
      },
      "execution_count": 4,
      "outputs": [
        {
          "output_type": "stream",
          "name": "stdout",
          "text": [
            "3.10.12 (main, Jul 29 2024, 16:56:48) [GCC 11.4.0]\n"
          ]
        }
      ]
    },
    {
      "cell_type": "code",
      "source": [
        "from google.colab import drive\n",
        "drive.mount('/content/drive')"
      ],
      "metadata": {
        "colab": {
          "base_uri": "https://localhost:8080/"
        },
        "id": "4z2LYypY-8Vw",
        "outputId": "df60102a-fcfc-4f8d-cbd6-ed8dc437ae70"
      },
      "execution_count": 5,
      "outputs": [
        {
          "output_type": "stream",
          "name": "stdout",
          "text": [
            "Mounted at /content/drive\n"
          ]
        }
      ]
    },
    {
      "cell_type": "code",
      "source": [
        "import os\n",
        "os.chdir('/content/drive/My Drive/VERIYAPILARI_ISTKA')\n",
        "!pwd"
      ],
      "metadata": {
        "colab": {
          "base_uri": "https://localhost:8080/"
        },
        "id": "kLJT8NVr_FDn",
        "outputId": "3ff10957-c88f-47ba-a0b7-4c23d967a94a"
      },
      "execution_count": 6,
      "outputs": [
        {
          "output_type": "stream",
          "name": "stdout",
          "text": [
            "/content/drive/My Drive/VERIYAPILARI_ISTKA\n"
          ]
        }
      ]
    },
    {
      "cell_type": "markdown",
      "source": [
        "PYTHON Döngü Yapıları\n",
        "\n",
        "\n",
        "Döngüler, belirli bir kod bölümünün birden fazla çalıştırmamıza olanak tanır.\n",
        "Döngüler, genellikle yazılımda tekrar eden işlemler için kullanılır.\n",
        "\n",
        "\n",
        "\n",
        "---\n",
        "\n",
        "\n",
        "Döngü Türleri:\n",
        "\n",
        "1.   for Döngüsü--> Belirli bir sıralama üzerinde iterasyon yapmak için kullanılır. Genellikle bir liste, dizi veya range fonksiyonu ile kullanılır.\n",
        "2.  while Döngüsü--> Belirli bir koşul doğru olduğu sürece kod bloğunu çalıştırır.\n",
        "\n",
        "\n",
        "\n",
        "---\n",
        "\n",
        "Döngü Kontrol Yapıları:\n",
        "\n",
        "1.   break--> Döngüyü tamamen sonlandırır.\n",
        "2.   continue--> Döngünün o anki tekrarı-iterasyonunu sonlandırır ve bir sonraki tekrara-iterasyona geçer.\n",
        "\n",
        "\n",
        "---\n",
        "\n",
        "Döngü İçinde Döngü (İç İçe Döngüler):\n",
        "\n",
        "1. İç İçe for Döngüsü\n",
        "2. İç İçe while Döngüsü"
      ],
      "metadata": {
        "id": "G7yT7b6IADZP"
      }
    },
    {
      "cell_type": "code",
      "source": [
        "# for dongusu ornegi: 0'dan 5'e kadar olan sayilari yazdirilmasi islemidir.\n",
        "for i in range(5): # default kullanımda 0'dan başlar. Iterasyon için baslangic degerinden baslanir ancak son deger alinmaz.\n",
        "  print(i,end=\" \")\n",
        "print(\"\\n\")\n",
        "for i in range(1,5):  # 1'den baslayip 5'e kadar iterasyon saglanir ancak 5 dahil edilmez (son deger oldugu icin)\n",
        "  print(i,end=\" \")"
      ],
      "metadata": {
        "colab": {
          "base_uri": "https://localhost:8080/"
        },
        "id": "Z8U8K1Ax_flv",
        "outputId": "45941148-1d84-414e-ae41-de89c9842a45"
      },
      "execution_count": 7,
      "outputs": [
        {
          "output_type": "stream",
          "name": "stdout",
          "text": [
            "0 1 2 3 4 \n",
            "\n",
            "1 2 3 4 "
          ]
        }
      ]
    },
    {
      "cell_type": "code",
      "source": [
        "# for dongusu ornegi: alısveris listesi olusturma\n",
        "liste = [\"elma\", \"ekmek\", \"süt\", \"peynir\"]\n",
        "\n",
        "for alinacaklar in liste:\n",
        "  print(alinacaklar)\n"
      ],
      "metadata": {
        "colab": {
          "base_uri": "https://localhost:8080/"
        },
        "id": "dbcAhiWbFE-s",
        "outputId": "098e4590-12d0-494b-ec76-6b6342d13bdf"
      },
      "execution_count": 8,
      "outputs": [
        {
          "output_type": "stream",
          "name": "stdout",
          "text": [
            "elma\n",
            "ekmek\n",
            "süt\n",
            "peynir\n"
          ]
        }
      ]
    },
    {
      "cell_type": "code",
      "source": [
        "# for dongusu ile bir siniftaki ogrencilerin notlarinin ortalamasini bulma\n",
        "notlar = []\n",
        "toplam = 0\n",
        "\n",
        "girilecek_not = int(input(\"Kaç tane not gireceksini?: \"))\n",
        "print(\"Lütfen bir sayı giriniz.\")\n",
        "\n",
        "for i in range(girilecek_not):\n",
        "    notlar.append(int(input(\"Notu giriniz: \")))\n",
        "\n",
        "for sayi in notlar:\n",
        "    toplam+= sayi\n",
        "\n",
        "ortalama = toplam / len(notlar)\n",
        "\n",
        "print(\"Birinci print -> Not Ortalaması:\", ortalama)\n",
        "print(f\"İkinci print -> Not ortalaması: {ortalama}\")"
      ],
      "metadata": {
        "colab": {
          "base_uri": "https://localhost:8080/"
        },
        "id": "i9-V05r_Hn0E",
        "outputId": "134ca8f3-2f16-4c72-b80e-efa93f26e6e0"
      },
      "execution_count": 9,
      "outputs": [
        {
          "output_type": "stream",
          "name": "stdout",
          "text": [
            "Kaç tane not gireceksini?: 3\n",
            "Lütfen bir sayı giriniz.\n",
            "Notu giriniz: 36\n",
            "Notu giriniz: 6\n",
            "Notu giriniz: 34\n",
            "Birinci print -> Not Ortalaması: 25.333333333333332\n",
            "İkinci print -> Not ortalaması: 25.333333333333332\n"
          ]
        }
      ]
    },
    {
      "cell_type": "code",
      "source": [
        "# while dongusu ornegi: 0'dan 5'e kadar olan sayilarin yazdırılmasi\n",
        "i = 0\n",
        "while i < 5:\n",
        "  print(i)\n",
        "  i+=1"
      ],
      "metadata": {
        "colab": {
          "base_uri": "https://localhost:8080/"
        },
        "id": "-p_BYLmFSiZ3",
        "outputId": "164396c7-2453-4250-e1c5-adfdc3ade95b"
      },
      "execution_count": 10,
      "outputs": [
        {
          "output_type": "stream",
          "name": "stdout",
          "text": [
            "0\n",
            "1\n",
            "2\n",
            "3\n",
            "4\n"
          ]
        }
      ]
    },
    {
      "cell_type": "code",
      "source": [
        "# kullanicidan bir sayi alinmasi\n",
        "user_input = int(input(\"Bir sayı girin: \"))\n",
        "# 0'dan kullanıcı tarafindan girilen sayiya kadar siralama yapma\n",
        "\n",
        "i=0\n",
        "while i <= user_input:\n",
        "  print(i, end=\" \")\n",
        "  i+=1"
      ],
      "metadata": {
        "colab": {
          "base_uri": "https://localhost:8080/"
        },
        "id": "Fb8oxGRiWH7X",
        "outputId": "7ecd9474-8145-4f20-beb8-6cc007f738cd"
      },
      "execution_count": 11,
      "outputs": [
        {
          "output_type": "stream",
          "name": "stdout",
          "text": [
            "Bir sayı girin: 5\n",
            "0 1 2 3 4 5 "
          ]
        }
      ]
    },
    {
      "cell_type": "code",
      "source": [
        "while True:\n",
        "  try:\n",
        "    gelen_bilgi = int(input(\"Bir sayı giriniz: \"))\n",
        "    break\n",
        "  except ValueError:\n",
        "    print(\"Lütfen geçerli bir sayı giriniz:\")\n",
        "    break\n",
        "i = 0\n",
        "while i<= gelen_bilgi:\n",
        "  print(i)\n",
        "  i+=1"
      ],
      "metadata": {
        "colab": {
          "base_uri": "https://localhost:8080/"
        },
        "id": "SOeYjoE6Wsfv",
        "outputId": "be2c95b3-d607-4ef8-f051-e48e5cf6772c"
      },
      "execution_count": 12,
      "outputs": [
        {
          "output_type": "stream",
          "name": "stdout",
          "text": [
            "Bir sayı giriniz: 6\n",
            "0\n",
            "1\n",
            "2\n",
            "3\n",
            "4\n",
            "5\n",
            "6\n"
          ]
        }
      ]
    },
    {
      "cell_type": "code",
      "source": [
        "# continue ornegi: 3'e ulastiginda bir sonraki iterasyona gecen kod blogudur.\n",
        "\n",
        "for i in range(5):\n",
        "  if i == 3:\n",
        "    continue\n",
        "  print(i)"
      ],
      "metadata": {
        "colab": {
          "base_uri": "https://localhost:8080/"
        },
        "id": "vy2GiXlEXxbX",
        "outputId": "34281219-7e14-4def-d87c-dedd3b859b2e"
      },
      "execution_count": 14,
      "outputs": [
        {
          "output_type": "stream",
          "name": "stdout",
          "text": [
            "0\n",
            "1\n",
            "2\n",
            "4\n"
          ]
        }
      ]
    },
    {
      "cell_type": "code",
      "source": [
        "# break ornegi: 3'e ulastiginda donguyu sonlandiran kod blogudur.\n",
        "\n",
        "for i in range(5):\n",
        "  if i == 3:\n",
        "    break\n",
        "  print(i)"
      ],
      "metadata": {
        "colab": {
          "base_uri": "https://localhost:8080/"
        },
        "id": "Qdv6Jp-EOBv5",
        "outputId": "080784eb-bd81-40dc-f982-c81a45db4127"
      },
      "execution_count": 16,
      "outputs": [
        {
          "output_type": "stream",
          "name": "stdout",
          "text": [
            "0\n",
            "1\n",
            "2\n"
          ]
        }
      ]
    },
    {
      "cell_type": "code",
      "source": [
        "# ic ice dongu ornegi: 2 boyutlu bir matrisin elemanlari uzerinde islemler\n",
        "\n",
        "matris = [\n",
        "    [1,2,3],\n",
        "    [4,5,6],\n",
        "    [7,8,9]\n",
        "]\n",
        "\n",
        "for x in matris:\n",
        "  for y in x:\n",
        "    print(y)"
      ],
      "metadata": {
        "colab": {
          "base_uri": "https://localhost:8080/"
        },
        "id": "5pFysuKWYXR3",
        "outputId": "2142e40f-aff0-4d32-fc26-cc17c330e5c0"
      },
      "execution_count": 17,
      "outputs": [
        {
          "output_type": "stream",
          "name": "stdout",
          "text": [
            "1\n",
            "2\n",
            "3\n",
            "4\n",
            "5\n",
            "6\n",
            "7\n",
            "8\n",
            "9\n"
          ]
        }
      ]
    },
    {
      "cell_type": "code",
      "source": [
        "toplam_bakiye = 1000\n",
        "\n",
        "while toplam_bakiye > 0:\n",
        "  try:\n",
        "    cekme_tutari = int(input(\"Çekmek istediğiniz tutarı girin: \"))\n",
        "    if cekme_tutari > toplam_bakiye:\n",
        "      print(\"Bakiye yetersiz!\")\n",
        "      uyari=input(\"Başka bir islem yapmak istiyor musunz? (e/h)\").lower()\n",
        "      if uyari == \"h\":\n",
        "        print(\"İşlem sonlandırıldı.\")\n",
        "        break\n",
        "\n",
        "    elif toplam_bakiye == cekme_tutari:\n",
        "      print(\"Bakiyeniz sıfırlanmıştır.\")\n",
        "      break\n",
        "\n",
        "    else:\n",
        "      toplam_bakiye-=cekme_tutari\n",
        "      print(f\"Kalan bakiyeniz: {toplam_bakiye}\")\n",
        "\n",
        "  except ValueError:\n",
        "    print(\"Lütfen geçerli bir sayı giriniz!\")"
      ],
      "metadata": {
        "colab": {
          "base_uri": "https://localhost:8080/"
        },
        "id": "TzmL8veFOmI6",
        "outputId": "30660bf7-4e5b-4bc5-a3d9-29a7aa11aa72"
      },
      "execution_count": 20,
      "outputs": [
        {
          "output_type": "stream",
          "name": "stdout",
          "text": [
            "Çekmek istediğiniz tutarı girin: 1000\n",
            "Bakiyeniz sıfırlanmıştır.\n"
          ]
        }
      ]
    },
    {
      "cell_type": "code",
      "source": [
        "sayi= abs(int(input(\"Bir sayı girin: \")))\n",
        "\n",
        "bolen_listesi  = list()\n",
        "bolen=1\n",
        "\n",
        "while bolen <= sayi:\n",
        "  if sayi%bolen == 0:\n",
        "    bolen_listesi.append(bolen)\n",
        "  bolen+=1\n",
        "\n",
        "if len(bolen_listesi) > 2:\n",
        "  print(\"Sayı asal değildir ve bölenleri şu şekildedir:\")\n",
        "  for bolenler in bolen_listesi:\n",
        "    if bolenler == 1:\n",
        "      continue\n",
        "    print(bolenler,end=\" \")\n",
        "\n",
        "else:\n",
        "  print(\"Sayı asaldır\")"
      ],
      "metadata": {
        "colab": {
          "base_uri": "https://localhost:8080/"
        },
        "id": "S7Yb512fbigc",
        "outputId": "75b49960-c819-4720-fdc1-0c2e508ac301"
      },
      "execution_count": 39,
      "outputs": [
        {
          "output_type": "stream",
          "name": "stdout",
          "text": [
            "Bir sayı girin: 37\n",
            "Sayı asaldır\n"
          ]
        }
      ]
    }
  ]
}