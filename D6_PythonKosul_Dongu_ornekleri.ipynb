{
  "nbformat": 4,
  "nbformat_minor": 0,
  "metadata": {
    "colab": {
      "provenance": []
    },
    "kernelspec": {
      "name": "python3",
      "display_name": "Python 3"
    },
    "language_info": {
      "name": "python"
    }
  },
  "cells": [
    {
      "cell_type": "code",
      "source": [
        "print(\"Merhaba, İGÜ - İSTKA / Ders 6\") # print ekrana çıktı veren bir koddur."
      ],
      "metadata": {
        "colab": {
          "base_uri": "https://localhost:8080/"
        },
        "id": "KztmS-4-bN7W",
        "outputId": "80c98d65-ff3e-4b3a-f574-83c9cfd8c107"
      },
      "execution_count": 61,
      "outputs": [
        {
          "output_type": "stream",
          "name": "stdout",
          "text": [
            "Merhaba, İGÜ - İSTKA / Ders 6\n"
          ]
        }
      ]
    },
    {
      "cell_type": "code",
      "execution_count": 62,
      "metadata": {
        "colab": {
          "base_uri": "https://localhost:8080/"
        },
        "id": "D56SUxaDaqP5",
        "outputId": "cac6626c-6d11-4ff7-c014-661e7e5a06a3"
      },
      "outputs": [
        {
          "output_type": "stream",
          "name": "stdout",
          "text": [
            "3.10.12 (main, Jul 29 2024, 16:56:48) [GCC 11.4.0]\n"
          ]
        }
      ],
      "source": [
        "import sys\n",
        "print(sys.version)"
      ]
    },
    {
      "cell_type": "code",
      "source": [
        "from google.colab import drive\n",
        "drive.mount('/content/drive')"
      ],
      "metadata": {
        "colab": {
          "base_uri": "https://localhost:8080/"
        },
        "id": "WAVp-AT3at3k",
        "outputId": "10059e03-3cb5-4e8a-d5a0-374f247026f1"
      },
      "execution_count": 63,
      "outputs": [
        {
          "output_type": "stream",
          "name": "stdout",
          "text": [
            "Mounted at /content/drive\n"
          ]
        }
      ]
    },
    {
      "cell_type": "code",
      "source": [
        "import os\n",
        "os.chdir('/content/drive/My Drive/VERIYAPILARI_ISTKA')\n",
        "!pwd"
      ],
      "metadata": {
        "colab": {
          "base_uri": "https://localhost:8080/"
        },
        "id": "-PRBhYW9a2tj",
        "outputId": "66108493-755f-420b-a006-266d095dbfa9"
      },
      "execution_count": 64,
      "outputs": [
        {
          "output_type": "stream",
          "name": "stdout",
          "text": [
            "/content/drive/My Drive/VERIYAPILARI_ISTKA\n"
          ]
        }
      ]
    },
    {
      "cell_type": "code",
      "source": [
        "# 1 ile 100 arasindaki sayilardan 7'ye bolunenleri bulan Python kodu\n",
        "Sayi_dizisi = []\n",
        "sayi = 1\n",
        "\n",
        "while sayi <= 100:\n",
        "  if sayi % 7 == 0:\n",
        "    Sayi_dizisi.append(sayi)\n",
        "  sayi +=1\n",
        "\n",
        "# Sonucu ekrana yazdir\n",
        "print(\"1 ile 100 arasındaki 7'ye bölünen sayılar\", Sayi_dizisi)\n",
        "print(\"Toplam sayı adedi\", len(Sayi_dizisi))"
      ],
      "metadata": {
        "colab": {
          "base_uri": "https://localhost:8080/"
        },
        "id": "fB2X5SxVbLVk",
        "outputId": "dba51f60-760d-4f9b-f0dc-2364572e74ab"
      },
      "execution_count": 65,
      "outputs": [
        {
          "output_type": "stream",
          "name": "stdout",
          "text": [
            "1 ile 100 arasındaki 7'ye bölünen sayılar [7, 14, 21, 28, 35, 42, 49, 56, 63, 70, 77, 84, 91, 98]\n",
            "Toplam sayı adedi 14\n"
          ]
        }
      ]
    },
    {
      "cell_type": "code",
      "source": [
        "# Girilen iki kodun hangisinin daha buyuk oldugunu bulan ve sayi disinda girilen karakterin hatali oldugunu gosteren kod blogu\n",
        "\n",
        "while True:\n",
        "  try:\n",
        "    gelen1 = float(input(\"Birinci sayıyı girin:\"))\n",
        "    gelen2 = float(input(\"İkinci sayıyı girin:\"))\n",
        "\n",
        "    if gelen1 > gelen2:\n",
        "      print(\"İlk sayı büyüktür.\")\n",
        "\n",
        "    elif gelen2 > gelen1:\n",
        "      print(\"İkinci sayı büyüktür.\")\n",
        "\n",
        "    else:\n",
        "      print(\"Sayılar birbirine eşittir.\")\n",
        "\n",
        "    break\n",
        "\n",
        "  except ValueError:\n",
        "    print(\"Lütfen geçerli bir sayı girin!\")"
      ],
      "metadata": {
        "id": "CvoBDLXQchUM",
        "colab": {
          "base_uri": "https://localhost:8080/"
        },
        "outputId": "25b0c52f-db6e-4383-d320-623dbff4438e"
      },
      "execution_count": 66,
      "outputs": [
        {
          "output_type": "stream",
          "name": "stdout",
          "text": [
            "Birinci sayıyı girin:34\n",
            "İkinci sayıyı girin:35\n",
            "İkinci sayı büyüktür.\n"
          ]
        }
      ]
    },
    {
      "cell_type": "code",
      "source": [
        "# Kullanicidan alinan sayinin faktoriyelini bulma\n",
        "\n",
        "while True:\n",
        "  try:\n",
        "    sayi = int(input(\"Lütfen bir sayı giriniz:\"))\n",
        "    if sayi < 0:\n",
        "      print(\"Negatif sayıların faktöriyeli hesaplanamaz.\")\n",
        "      continue\n",
        "    elif sayi == 0 or sayi == 1:\n",
        "      print(\"1\")\n",
        "    else:\n",
        "      sonuc=1\n",
        "      while sayi > 1:\n",
        "        sonuc*=sayi\n",
        "        sayi-=1\n",
        "      print(sonuc)\n",
        "    break\n",
        "  except ValueError:\n",
        "    print(\"Lütfen geçerli bir tam sayı girin!\")"
      ],
      "metadata": {
        "colab": {
          "base_uri": "https://localhost:8080/"
        },
        "id": "UjMhyZTpfxVU",
        "outputId": "a264d2a6-f610-4658-940b-d0fd75b68556"
      },
      "execution_count": 67,
      "outputs": [
        {
          "output_type": "stream",
          "name": "stdout",
          "text": [
            "Lütfen bir sayı giriniz:34\n",
            "295232799039604140847618609643520000000\n"
          ]
        }
      ]
    },
    {
      "cell_type": "code",
      "source": [
        "# Kullanicidan baslangic degeri alma\n",
        "\n",
        "while True:\n",
        "  try:\n",
        "    baslangic_degeri = int(input(\"Lütfen başlangıç değeri giriniz: \"))\n",
        "    if baslangic_degeri < 0:\n",
        "      baslangic_degeri = abs(baslangic_degeri)\n",
        "      print(f\"Negatif değer girdiniz pozitif değer olarak algılandı: {baslangic_degeri}\")\n",
        "    break\n",
        "  except ValueError:\n",
        "    print(\"Lütfen geçerli bir değer giriniz!\")\n",
        "\n",
        "# Kullanicidan bitis degeri alma\n",
        "\n",
        "while True:\n",
        "  try:\n",
        "    bitis_degeri = int(input(\"Lütfen bitiş değeri giriniz: \"))\n",
        "    if bitis_degeri < 0:\n",
        "      bitis_degeri = abs(bitis_degeri)\n",
        "      print(\"Negatif değer girdiniz pozitif değer olarak algılandı\", bitis_degeri)\n",
        "    if bitis_degeri < baslangic_degeri:\n",
        "      print(f\"Bitiş değeri başlangıç değerinden küçük olamaz! Lütfen {baslangic_degeri} sayısından daha büyük bir sayı giriniz:\")\n",
        "      continue\n",
        "\n",
        "    break\n",
        "\n",
        "  except ValueError:\n",
        "    print(\"Lütfen geçerli bir sayı giriniz!\")\n",
        "\n",
        "cift_sayilar = []\n",
        "cift_sayilarin_toplami = 0\n",
        "sayi = baslangic_degeri\n",
        "\n",
        "while sayi < bitis_degeri:\n",
        "  if sayi % 2 == 0:\n",
        "    cift_sayilar.append(sayi)\n",
        "    cift_sayilarin_toplami+=sayi\n",
        "  sayi+=1\n",
        "\n",
        "print(f\"{baslangic_degeri} ile {bitis_degeri} arasındaki çift sayılar:\")\n",
        "for num in cift_sayilar:\n",
        "  print(num, end=\" \")\n",
        "print(\"\\n\")\n",
        "print(f\"Çift sayıların toplamı: {cift_sayilarin_toplami}\")\n"
      ],
      "metadata": {
        "colab": {
          "base_uri": "https://localhost:8080/"
        },
        "id": "dEgqKa5di4qD",
        "outputId": "3bc4cd90-0e6c-460d-dc56-28edc679b2dc"
      },
      "execution_count": 69,
      "outputs": [
        {
          "output_type": "stream",
          "name": "stdout",
          "text": [
            "Lütfen başlangıç değeri giriniz: 35\n",
            "Lütfen bitiş değeri giriniz: 36\n",
            "35 ile 36 arasındaki çift sayılar:\n",
            "\n",
            "\n",
            "Çift sayıların toplamı: 0\n"
          ]
        }
      ]
    },
    {
      "cell_type": "code",
      "source": [
        "# Onceden tanimlanan sesli harf listesinde girilen metnin karsilastirilmasi yapilarak sesli ve sessiz harf kontrolunun yapilmassi\n",
        "\n",
        "\n",
        "\n",
        "# isalpha() ile bir stringde yalnızca harf olup olmadığını kontrol etmek için kullanılır.\n",
        "\n",
        "# Aşağıdaki kod blogunda geçen \"isalpha\" harf dışı bir karakter ile karşılaşınca \"false\" döndürmektedir.\n",
        "\n",
        "class MyCustomError(Exception):\n",
        "  def __init__(self, message):\n",
        "    super().__init__(message)\n",
        "    self.message = message\n",
        "\n",
        "def TestFunction(value):\n",
        "  sesli_harfler = \"aeıioöuüAEIİOÖUÜ\"\n",
        "\n",
        "  sesli_harfsayisi = 0\n",
        "  sessiz_harfsayisi = 0\n",
        "  rakam_listesi = []\n",
        "\n",
        "  for i in value: #                                             --------------------------> # bu kısımı internetten araştırarak rakam girildiğinde mesaj veren hazır hata classı oluşturdum\n",
        "    if i.isdecimal():\n",
        "      rakam_listesi.append(i)\n",
        "      raise MyCustomError(\"İçinde harf bulunan kelimeler kabul edilemez!\")\n",
        "\n",
        "  if len(rakam_listesi) == 0:\n",
        "    for i in value:\n",
        "      if i in sesli_harfler:\n",
        "        sesli_harfsayisi+=1\n",
        "      else:\n",
        "        sessiz_harfsayisi+=1\n",
        "\n",
        "  return print(f\"{value} kelimesinde {sesli_harfsayisi} adet sesli harf ve {sessiz_harfsayisi} adet sessiz harf vardır.\")\n",
        "\n",
        "\n",
        "try:\n",
        "  kelime = (input(\"Bir kelime girin: \"))\n",
        "  TestFunction(kelime)\n",
        "\n",
        "except MyCustomError as e:\n",
        "  print(f\"Hata: {e.message}\")\n",
        "\n"
      ],
      "metadata": {
        "colab": {
          "base_uri": "https://localhost:8080/"
        },
        "id": "d4svM7xptdF6",
        "outputId": "bce84c1c-c658-4127-8ffb-b2e7b749fea1"
      },
      "execution_count": 70,
      "outputs": [
        {
          "output_type": "stream",
          "name": "stdout",
          "text": [
            "Bir kelime girin: ahmet\n",
            "ahmet kelimesinde 2 adet sesli harf ve 3 adet sessiz harf vardır.\n"
          ]
        }
      ]
    },
    {
      "cell_type": "code",
      "source": [],
      "metadata": {
        "id": "nOZ3MZpAwRGb"
      },
      "execution_count": 52,
      "outputs": []
    }
  ]
}