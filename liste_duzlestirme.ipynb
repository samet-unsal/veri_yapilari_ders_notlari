{
  "nbformat": 4,
  "nbformat_minor": 0,
  "metadata": {
    "colab": {
      "provenance": []
    },
    "kernelspec": {
      "name": "python3",
      "display_name": "Python 3"
    },
    "language_info": {
      "name": "python"
    }
  },
  "cells": [
    {
      "cell_type": "code",
      "execution_count": null,
      "metadata": {
        "id": "o0HsZLLMfaP3"
      },
      "outputs": [],
      "source": [
        "\"\"\"\n",
        "1- Bir listeyi düzleştiren (flatten) fonksiyon yazın. Elemanları birden çok katmanlı listelerden ([[3],2] gibi)\n",
        "oluşabileceği gibi, non-scalar verilerden de oluşabilir. Örnek olarak:\n",
        "\n",
        "input: [[1,'a',['cat'],2],[[[3]],'dog'],4,5]\n",
        "\n",
        "output: [1,'a','cat',2,3,'dog',4,5]\n",
        "\"\"\"\n",
        "l=[[1,'a',['cat'],2],[[[3]],'dog'],4,5]\n",
        "liste_2=[]\n",
        "\n",
        "\n",
        "def func(x):\n",
        "    for item in x:\n",
        "        if type(item) is list:\n",
        "            func(item)\n",
        "        else:\n",
        "            liste_2.append(item)\n",
        "    return liste_2\n",
        "\n",
        "print(func(l))\n",
        "\n",
        "\"\"\"www.patika.dev\"\"\""
      ]
    }
  ]
}